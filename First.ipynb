{
 "cells": [
  {
   "cell_type": "code",
   "execution_count": 1,
   "metadata": {},
   "outputs": [],
   "source": [
    "import cv2"
   ]
  },
  {
   "cell_type": "code",
   "execution_count": 2,
   "metadata": {},
   "outputs": [],
   "source": [
    "# At which camera you wants to capture \n",
    "# Ext --> 1 or anyOtheNum  Int --> 0\n",
    "\n",
    "capture = cv2.VideoCapture(0) "
   ]
  },
  {
   "cell_type": "code",
   "execution_count": 3,
   "metadata": {},
   "outputs": [],
   "source": [
    "# Now we read the Pic or take snapshot and it return two values \n",
    "#  1st --> Return Value(is it captured or Not)\n",
    "#  2nd --> The Data Which is Given by the Photo\n",
    "# So, For accepting these two value we need two Variable\n",
    "\n",
    "ret_value , photo_data = capture.read()"
   ]
  },
  {
   "cell_type": "code",
   "execution_count": 4,
   "metadata": {},
   "outputs": [
    {
     "data": {
      "text/plain": [
       "True"
      ]
     },
     "execution_count": 4,
     "metadata": {},
     "output_type": "execute_result"
    }
   ],
   "source": [
    "# Now we also need write those data which is not in Correct format to \n",
    "# specific Image file Extension\n",
    "\n",
    "cv2.imwrite(\"test.jpg\",photo_data)"
   ]
  },
  {
   "cell_type": "code",
   "execution_count": 5,
   "metadata": {},
   "outputs": [],
   "source": [
    "# Now we don't need the camera our work is Done so we need to realease\n",
    "# the Camera\n",
    "\n",
    "capture.release()"
   ]
  },
  {
   "cell_type": "code",
   "execution_count": 6,
   "metadata": {},
   "outputs": [],
   "source": [
    "# Lets See the Pic in new window without mannual clicking at the Photio\n",
    "# In this function it need two values \n",
    "# 1st -> What name of the Window We Wants To give ?\n",
    "# 2nd -> the Data which we need to see at that window\n",
    "\n",
    "cv2.imshow(\"Test Pic\",photo_data)\n",
    "\n",
    "# Here at this only you will try to excute your program will crash becoz\n",
    "# Due to two reasones -->\n",
    "# 1. We haven't tell that How much time it should be visible ?\n",
    "# --> If we not give the specific time then it will show the image forever\n",
    "\n",
    "# 2. Through which we want to close that window\n",
    "# --> It we not mention any key it will close through any key\n",
    "\n",
    "cv2.waitKey() # As you can see we havn't mention anything\n",
    "\n",
    "# Now again it will crash we haven't given any way/function so that it can \n",
    "# it can distroy.\n",
    "\n",
    "cv2.destroyAllWindows()"
   ]
  },
  {
   "cell_type": "code",
   "execution_count": null,
   "metadata": {},
   "outputs": [],
   "source": []
  }
 ],
 "metadata": {
  "kernelspec": {
   "display_name": "Python 3",
   "language": "python",
   "name": "python3"
  },
  "language_info": {
   "codemirror_mode": {
    "name": "ipython",
    "version": 3
   },
   "file_extension": ".py",
   "mimetype": "text/x-python",
   "name": "python",
   "nbconvert_exporter": "python",
   "pygments_lexer": "ipython3",
   "version": "3.7.6"
  }
 },
 "nbformat": 4,
 "nbformat_minor": 4
}
